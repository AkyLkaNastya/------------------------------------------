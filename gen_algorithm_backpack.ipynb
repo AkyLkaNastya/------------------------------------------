{
 "cells": [
  {
   "cell_type": "code",
   "execution_count": 137,
   "id": "a53e3cf9",
   "metadata": {},
   "outputs": [],
   "source": [
    "import random\n",
    "import numpy as np"
   ]
  },
  {
   "cell_type": "markdown",
   "id": "b69494e7",
   "metadata": {},
   "source": [
    "- c - вместимость\n",
    "- p - ценность объектов\n",
    "- s - оптимальный выбор объектов \n",
    "- w - веса объектов"
   ]
  },
  {
   "cell_type": "code",
   "execution_count": 138,
   "id": "497b23f1",
   "metadata": {},
   "outputs": [],
   "source": [
    "# Читаем данные\n",
    "def read_file_to_list(filename):\n",
    "    with open(filename, 'r') as file:\n",
    "        return [float(line.strip()) for line in file if line.strip()]\n",
    "    \n",
    "n = 1\n",
    "\n",
    "capacity = read_file_to_list(f'benchmarks/P0{n}/p0{n}_c.txt')[0]\n",
    "profits = read_file_to_list(f'benchmarks/P0{n}/p0{n}_p.txt')\n",
    "opt_selection = read_file_to_list(f'benchmarks/P0{n}/p0{n}_s.txt')\n",
    "weights = read_file_to_list(f'benchmarks/P0{n}/p0{n}_w.txt')"
   ]
  },
  {
   "cell_type": "code",
   "execution_count": 139,
   "id": "c7c6f9bf",
   "metadata": {},
   "outputs": [
    {
     "name": "stdout",
     "output_type": "stream",
     "text": [
      "Вместимость рюкзака (c): 165.0\n",
      "Ценности предметов (p): [92.0, 57.0, 49.0, 68.0, 60.0, 43.0, 67.0, 84.0, 87.0, 72.0]\n",
      "Оптимальный выбор (s): [1.0, 1.0, 1.0, 1.0, 0.0, 1.0, 0.0, 0.0, 0.0, 0.0]\n",
      "Веса предметов (w): [23.0, 31.0, 29.0, 44.0, 53.0, 38.0, 63.0, 85.0, 89.0, 82.0]\n"
     ]
    }
   ],
   "source": [
    "print(\"Вместимость рюкзака (c):\", capacity)\n",
    "print(\"Ценности предметов (p):\", profits)\n",
    "print(\"Оптимальный выбор (s):\", opt_selection)\n",
    "print(\"Веса предметов (w):\", weights)"
   ]
  },
  {
   "cell_type": "code",
   "execution_count": 140,
   "id": "75e88341",
   "metadata": {},
   "outputs": [],
   "source": [
    "# Подсчёт веса и ценности рюкзака\n",
    "def calculate_backpack(solution, weights, profits):\n",
    "    total_weight = 0\n",
    "    total_profit = 0\n",
    "    \n",
    "    for i in range(len(solution)):\n",
    "        if solution[i] == 1:\n",
    "            total_weight += weights[i]\n",
    "            total_profit += profits[i]\n",
    "    \n",
    "    return total_weight, total_profit"
   ]
  },
  {
   "cell_type": "code",
   "execution_count": 141,
   "id": "f6cab303",
   "metadata": {},
   "outputs": [],
   "source": [
    "# Уменьшаем вес\n",
    "def delete_weight(solution):\n",
    "    w, p = calculate_backpack(solution, weights, profits)\n",
    "    \n",
    "    while w > capacity:\n",
    "        ones_indices = [i for i, x in enumerate(solution) if x == 1]\n",
    "    \n",
    "        random_index = random.choice(ones_indices)\n",
    "        solution[random_index] = 0\n",
    "        \n",
    "        w, p = calculate_backpack(solution, weights, profits)\n",
    "    return solution"
   ]
  },
  {
   "cell_type": "code",
   "execution_count": 142,
   "id": "443dfc1a",
   "metadata": {},
   "outputs": [],
   "source": [
    "# Рандомно заполняем массив нулями и единицами\n",
    "def random_list():\n",
    "    \n",
    "    solution = [random.randint(0, 1) for _ in range(len(weights))]\n",
    "    solution = delete_weight(solution)\n",
    "\n",
    "    return solution\n",
    "\n",
    "solutions = [[],[],[],[],[]]\n",
    "solutions_len = len(solutions)\n",
    "\n",
    "for i in range(5):\n",
    "    solutions[i] = random_list()"
   ]
  },
  {
   "cell_type": "code",
   "execution_count": 143,
   "id": "c8ba9d8f",
   "metadata": {},
   "outputs": [
    {
     "name": "stdout",
     "output_type": "stream",
     "text": [
      "[0, 0, 0, 0, 0, 0, 1, 1, 0, 0]\n",
      "[0, 0, 0, 0, 0, 1, 1, 0, 0, 0]\n",
      "[0, 0, 0, 0, 1, 0, 0, 0, 1, 0]\n",
      "[1, 0, 1, 0, 1, 0, 0, 0, 0, 0]\n",
      "[1, 0, 0, 0, 0, 0, 0, 1, 0, 0]\n",
      "151.0\n",
      "110.0\n",
      "147.0\n",
      "201.0\n",
      "176.0\n"
     ]
    }
   ],
   "source": [
    "print(solutions[0])\n",
    "print(solutions[1])\n",
    "print(solutions[2])\n",
    "print(solutions[3])\n",
    "print(solutions[4])\n",
    "\n",
    "w, p = calculate_backpack(solutions[0], weights, profits)\n",
    "print(p)\n",
    "w, p = calculate_backpack(solutions[1], weights, profits)\n",
    "print(p)\n",
    "w, p = calculate_backpack(solutions[2], weights, profits)\n",
    "print(p)\n",
    "w, p = calculate_backpack(solutions[3], weights, profits)\n",
    "print(p)\n",
    "w, p = calculate_backpack(solutions[4], weights, profits)\n",
    "print(p)"
   ]
  },
  {
   "cell_type": "code",
   "execution_count": 133,
   "id": "82cf5352",
   "metadata": {},
   "outputs": [],
   "source": [
    "best_solution = []\n",
    "max_profit = 0\n",
    "\n",
    "sum_p = 0\n",
    "probabilities = []\n",
    "\n",
    "for _ in range(solutions_len):\n",
    "    w, p = calculate_backpack(solutions[_], weights, profits)\n",
    "    if p > max_profit:\n",
    "        max_profit = p\n",
    "        best_solution = solutions[_]\n",
    "    sum_p += p\n",
    "    probabilities.append(p)\n",
    "\n",
    "for _ in range(solutions_len):\n",
    "    probabilities[_] = probabilities[_]/sum_p"
   ]
  },
  {
   "cell_type": "code",
   "execution_count": 134,
   "id": "3b273c76",
   "metadata": {},
   "outputs": [
    {
     "name": "stdout",
     "output_type": "stream",
     "text": [
      "[1, 0, 0, 1, 0, 0, 0, 0, 1, 0]\n",
      "247.0\n"
     ]
    }
   ],
   "source": [
    "print(best_solution)\n",
    "print(max_profit)"
   ]
  },
  {
   "cell_type": "code",
   "execution_count": 135,
   "id": "e5833eae",
   "metadata": {},
   "outputs": [
    {
     "name": "stdout",
     "output_type": "stream",
     "text": [
      "782.0\n",
      "[0.20332480818414322, 0.16240409207161124, 0.170076726342711, 0.1483375959079284, 0.31585677749360613]\n"
     ]
    }
   ],
   "source": [
    "print(sum_p)\n",
    "print(probabilities)"
   ]
  },
  {
   "cell_type": "code",
   "execution_count": 124,
   "id": "3c4a624b",
   "metadata": {},
   "outputs": [],
   "source": [
    "# Кроссовер\n",
    "def crossover(a, b):\n",
    "    n = len(a)\n",
    "    part_size = round(n / 3)\n",
    "    sizes = [part_size, part_size, n - 2 * part_size]\n",
    "    \n",
    "    a_parts = []\n",
    "    b_parts = []\n",
    "    start = 0\n",
    "    for size in sizes:\n",
    "        a_parts.append(a[start:start+size])\n",
    "        b_parts.append(b[start:start+size])\n",
    "        start += size\n",
    "    \n",
    "    a = a_parts[0] + b_parts[1] + a_parts[2]\n",
    "    b = b_parts[0] + a_parts[1] + b_parts[2]\n",
    "    \n",
    "    return a, b"
   ]
  },
  {
   "cell_type": "code",
   "execution_count": 136,
   "id": "f20ea9a4",
   "metadata": {},
   "outputs": [
    {
     "name": "stdout",
     "output_type": "stream",
     "text": [
      "Оставшиеся подсписки: [[1, 0, 0, 0, 0, 0, 1, 0, 0, 0], [0, 0, 0, 0, 1, 0, 1, 0, 0, 0], [0, 0, 1, 0, 0, 0, 1, 0, 0, 0], [1, 1, 0, 0, 0, 0, 0, 0, 1, 0], [1, 0, 1, 0, 0, 0, 0, 1, 0, 0]]\n"
     ]
    }
   ],
   "source": [
    "# Выбираем 2 подсписка на основе вероятностей\n",
    "selected_indices = np.random.choice(\n",
    "    len(solutions), \n",
    "    size=2, \n",
    "    replace=False, \n",
    "    p=probabilities\n",
    ")\n",
    "\n",
    "selected = [solutions[i] for i in selected_indices]\n",
    "\n",
    "# Кроссоверим выбранные списки\n",
    "res_1, res_2 = crossover(selected[0], selected[1])\n",
    "\n",
    "# Добавляем мутацию flip bit к полученным решениям\n",
    "def invert_three_elements(result):\n",
    "    new_result = result.copy()\n",
    "    indices = random.sample(range(len(result)), 2)\n",
    "\n",
    "    for index in indices:\n",
    "        if 0 <= index < len(new_result):\n",
    "            new_result[index] = 1 - new_result[index]\n",
    "    return new_result\n",
    "\n",
    "child_1 = invert_three_elements(res_1)\n",
    "child_2 = invert_three_elements(res_2)\n",
    "\n",
    "delete_weight(child_1)\n",
    "delete_weight(child_2)\n",
    "\n",
    "# Удаляем выбранные подсписки из исходного списка\n",
    "for i in sorted(selected_indices, reverse=True):\n",
    "    del solutions[i]\n",
    "\n",
    "solutions.append(child_1)\n",
    "solutions.append(child_2)\n",
    "    \n",
    "print(\"Оставшиеся подсписки:\", solutions)"
   ]
  },
  {
   "cell_type": "code",
   "execution_count": 146,
   "id": "ff797c75",
   "metadata": {},
   "outputs": [
    {
     "data": {
      "text/plain": [
       "[[0, []], [0, []], [0, []], [0, []], [0, []], [0, []], [0, []]]"
      ]
     },
     "execution_count": 146,
     "metadata": {},
     "output_type": "execute_result"
    }
   ],
   "source": [
    "[[0,[]]]*7"
   ]
  }
 ],
 "metadata": {
  "kernelspec": {
   "display_name": "Python 3",
   "language": "python",
   "name": "python3"
  },
  "language_info": {
   "codemirror_mode": {
    "name": "ipython",
    "version": 3
   },
   "file_extension": ".py",
   "mimetype": "text/x-python",
   "name": "python",
   "nbconvert_exporter": "python",
   "pygments_lexer": "ipython3",
   "version": "3.10.11"
  }
 },
 "nbformat": 4,
 "nbformat_minor": 5
}
